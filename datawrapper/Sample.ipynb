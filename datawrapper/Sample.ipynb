{
 "cells": [
  {
   "cell_type": "code",
   "execution_count": null,
   "id": "de392904",
   "metadata": {},
   "outputs": [],
   "source": [
    "def create_ids(dataframe):\n",
    "    for idx, row in "
   ]
  },
  {
   "cell_type": "code",
   "execution_count": 6,
   "id": "7097780a",
   "metadata": {},
   "outputs": [
    {
     "name": "stdout",
     "output_type": "stream",
     "text": [
      "{'publicId': 'NiI5h', 'language': 'en-US', 'theme': 'datawrapper', 'title': 'Rent Price Trends for Florida and Georgia', 'type': 'd3-lines', 'lastEditStep': 3, 'metadata': {'data': {'changes': [], 'transpose': False, 'vertical-header': True, 'horizontal-header': True}, 'describe': {'source-name': '', 'source-url': '', 'intro': '', 'byline': '', 'aria-description': '', 'number-format': '-', 'number-divisor': 0, 'number-append': '', 'number-prepend': ''}, 'visualize': {'dark-mode-invert': True, 'highlighted-series': [], 'highlighted-values': [], 'sharing': {'enabled': False}}, 'axes': {'x-axis-label': 'Date', 'y-axis-label': 'Rent Price'}, 'publish': {'embed-width': 600, 'embed-height': 400, 'blocks': {'logo': {'enabled': False}, 'embed': False, 'download-pdf': False, 'download-svg': False, 'get-the-data': True, 'download-image': False}, 'export-pdf': {}}, 'annotate': {'notes': ''}, 'custom': {}}, 'authorId': 630652, 'id': 'NiI5h', 'lastModifiedAt': '2023-10-06T15:53:53.046Z', 'createdAt': '2023-10-06T15:53:53.034Z', 'url': '/v3/charts/NiI5h'}\n",
      "\n",
      "There was an error creating the chart: \n"
     ]
    }
   ],
   "source": [
    "import pandas as pd\n",
    "import numpy as np\n",
    "import requests\n",
    "import json\n",
    "from datetime import datetime\n",
    "\n",
    "# Generate random data for Florida and Georgia\n",
    "dates = pd.date_range(start=\"2022-01-01\", end=datetime.today().strftime('%Y-%m-%d'), freq='M')\n",
    "florida = np.random.randint(900, 1100, size=len(dates)).cumsum()\n",
    "georgia = np.random.randint(900, 1100, size=len(dates)).cumsum()\n",
    "\n",
    "data = pd.DataFrame({\n",
    "    'Date': dates,\n",
    "    'Florida': florida,\n",
    "    'Georgia': georgia\n",
    "})\n",
    "\n",
    "# Your Datawrapper API token\n",
    "API_TOKEN = 'aNNepS1AiAYPA0MwXLHQphkUSFQTwZTVCDh1pRn298iydQkLyh8mrPg6IBcNnICo'\n",
    "\n",
    "# Endpoint to create a new chart\n",
    "url = 'https://api.datawrapper.de/v3/charts'\n",
    "\n",
    "# The configuration for the chart\n",
    "chart_config = {\n",
    "    'title': 'Rent Price Trends for Florida and Georgia',\n",
    "    'type': 'd3-lines',\n",
    "    'metadata': {\n",
    "        'axes': {\n",
    "            'x-axis-label': 'Date',\n",
    "            'y-axis-label': 'Rent Price'\n",
    "        }\n",
    "    }\n",
    "}\n",
    "\n",
    "headers = {\n",
    "    'Authorization': 'Bearer ' + API_TOKEN,\n",
    "    'Content-Type': 'application/json'\n",
    "}\n",
    "\n",
    "# Create the chart\n",
    "response = requests.post(url, headers=headers, data=json.dumps(chart_config))\n",
    "print(response.json())\n",
    "chart_id = response.json()['id']\n",
    "\n",
    "# Now, let's add data to the chart\n",
    "data_url = f'https://api.datawrapper.de/v3/charts/{chart_id}/data'\n",
    "headers = {\n",
    "    'Authorization': 'Bearer ' + API_TOKEN,\n",
    "    'Content-Type': 'text/csv'\n",
    "}\n",
    "response = requests.put(data_url, headers=headers, data=data.to_csv(index=False))\n",
    "\n",
    "if response.status_code == 204:\n",
    "    print(f\"Chart created successfully! You can view it at: https://datawrapper.dwcdn.net/{chart_id}/\")\n",
    "else:\n",
    "    print(response.text)\n",
    "    print(\"There was an error creating the chart:\", response.text)"
   ]
  },
  {
   "cell_type": "markdown",
   "id": "7e8659e2",
   "metadata": {},
   "source": [
    "## Publish ID"
   ]
  },
  {
   "cell_type": "code",
   "execution_count": 7,
   "id": "d98820c2",
   "metadata": {},
   "outputs": [],
   "source": [
    "url = f'https://api.datawrapper.de/v3/charts/{chart_id}/publish'\n",
    "\n",
    "headers = {\n",
    "    'Authorization': 'Bearer ' + API_TOKEN\n",
    "}\n",
    "response = requests.post(url, headers=headers)\n",
    "if response.status_code == 200:\n",
    "    print(f\"Chart published successfully! You can view it at: https://datawrapper.dwcdn.net/{CHART_ID}/\")\n",
    "else:\n",
    "    print(\"There was an error publishing the chart:\", response.text)"
   ]
  },
  {
   "cell_type": "code",
   "execution_count": 11,
   "id": "e9e42679",
   "metadata": {},
   "outputs": [
    {
     "data": {
      "text/plain": [
       "200"
      ]
     },
     "execution_count": 11,
     "metadata": {},
     "output_type": "execute_result"
    }
   ],
   "source": [
    "response.status_code"
   ]
  }
 ],
 "metadata": {
  "kernelspec": {
   "display_name": "Python 3 (ipykernel)",
   "language": "python",
   "name": "python3"
  },
  "language_info": {
   "codemirror_mode": {
    "name": "ipython",
    "version": 3
   },
   "file_extension": ".py",
   "mimetype": "text/x-python",
   "name": "python",
   "nbconvert_exporter": "python",
   "pygments_lexer": "ipython3",
   "version": "3.9.12"
  }
 },
 "nbformat": 4,
 "nbformat_minor": 5
}
