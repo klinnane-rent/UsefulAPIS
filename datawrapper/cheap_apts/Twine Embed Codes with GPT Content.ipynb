{
 "cells": [
  {
   "cell_type": "code",
   "execution_count": null,
   "id": "b60aa1d1",
   "metadata": {},
   "outputs": [],
   "source": []
  },
  {
   "cell_type": "code",
   "execution_count": 2,
   "id": "b2d4d9be",
   "metadata": {},
   "outputs": [
    {
     "name": "stdout",
     "output_type": "stream",
     "text": [
      "second\n",
      "second\n",
      "second\n",
      "second\n",
      "second\n",
      "second\n",
      "second\n"
     ]
    }
   ],
   "source": [
    "import pandas as  pd\n",
    "import glob\n",
    "import re\n",
    "import math\n",
    "methodology_text = \"\"\"\n",
    "<h2>Methodology</h2><p>The cheapest cities in each state were ranked based on its median home price and median asking rents for studio, one-, two-, and three-bedroom units. Prior to ranking, inputs were normalized, and weights were applied using a 1.25:1 ratio of asking rents to home prices.\n",
    "Data on home prices are from the U.S. Census 2016-2020 American Community Survey 5-year estimates. Data on asking rents are from Rent.\n",
    "Cities without data for one- or two-bedroom asking rents or a population of less than 10,000 were removed from this ranking. Any other missing values were zeroed and did not impact the final score.</p>\"\"\"\n",
    "missed_content_urls = ['NH', \"IN\", 'FL', 'PA', \"ME\", 'HI', 'OR', \"TN\" ]\n",
    "\n",
    "def get_embed_code(filepath):\n",
    "    with open(filepath) as my_file:\n",
    "        e_code = my_file.read()\n",
    "    return e_code\n",
    "\n",
    "def format_response(state, response, map_embed, table_embed, series_embed):\n",
    "    myLines = response.split(\"\\n\")\n",
    "    fin_lines = \"\"\n",
    "    is_h1 = True\n",
    "    count_all_h2s = len(re.findall(\"#{2} \", response))\n",
    "\n",
    "    second_graph_pos = math.floor(count_all_h2s / 2)\n",
    "    h2_count = 0\n",
    "\n",
    "    second_graph = False\n",
    "    my_header = \"\"\n",
    "    for line in myLines:\n",
    "        if re.match(\"^# \", line ):\n",
    "            line = line.replace(\"# \", \"\")\n",
    "            line = line.replace(\"#\", \"\")\n",
    "            my_header = line\n",
    "            line = \"\"\n",
    "        elif \"## \" in line:\n",
    "            h2_count+=1 \n",
    "            if h2_count == second_graph_pos:\n",
    "                second_graph = True\n",
    "            line = line.replace(\"## \", \"<h2>\")\n",
    "            line += \"</h2>\"\n",
    "        else: \n",
    "            if line != \"\":\n",
    "                line = \"<p>\" + line + \"</p>\"\n",
    "               \n",
    "                if is_h1 == True:\n",
    "                    is_h1 = False\n",
    "\n",
    "                    line+= \"<div>\" + map_embed +\"</div>\"\n",
    "                if second_graph == True:\n",
    "                    print('second')\n",
    "                    second_graph = False\n",
    "                    if state == \"VT\" or state == \"HI\":\n",
    "                        pass\n",
    "                    else:\n",
    "                        line+= \"<div>\" + series_embed + \"</div>\"\n",
    "        fin_lines += line\n",
    "    fin_lines += \"<div>\" + table_embed +\"</div>\"\n",
    "    fin_lines += methodology_text\n",
    "    return fin_lines, my_header\n",
    "# Get gpt outputs.  format the headers, etc. Insert embed codes. \n",
    "output_file = pd.DataFrame(columns=['cheapest_state',  'header', 'html'])\n",
    "for file in glob.glob(\"states/*/*.txt\"):\n",
    "    for stat_abv in missed_content_urls:\n",
    "        if stat_abv in file:\n",
    "            mygpt = pd.read_csv(file)\n",
    "            pathing_to_graphs = \"/\".join(file.split(\"/\")[:-1])\n",
    "            time_series = get_embed_code(pathing_to_graphs + \"/Timeseries/embed_code.txt\")\n",
    "            mapping = get_embed_code(pathing_to_graphs + \"/Map/embed_code.txt\")\n",
    "            table = get_embed_code(pathing_to_graphs + \"/Table/embed_code.txt\")\n",
    "\n",
    "            prod_ready_responses, header = format_response(file.split('/')[1], mygpt['response'].iloc[0], mapping, table, time_series)\n",
    "            output_file.loc[len(output_file)] = [file.split('/')[1], header, prod_ready_responses]\n",
    "output_file.to_csv(\"missed_results_simpel_script.csv\", index=False)"
   ]
  },
  {
   "cell_type": "code",
   "execution_count": null,
   "id": "62343016",
   "metadata": {},
   "outputs": [],
   "source": []
  }
 ],
 "metadata": {
  "kernelspec": {
   "display_name": "Python 3 (ipykernel)",
   "language": "python",
   "name": "python3"
  },
  "language_info": {
   "codemirror_mode": {
    "name": "ipython",
    "version": 3
   },
   "file_extension": ".py",
   "mimetype": "text/x-python",
   "name": "python",
   "nbconvert_exporter": "python",
   "pygments_lexer": "ipython3",
   "version": "3.9.12"
  }
 },
 "nbformat": 4,
 "nbformat_minor": 5
}
