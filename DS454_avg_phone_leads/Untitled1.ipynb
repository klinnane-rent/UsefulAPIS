{
 "cells": [
  {
   "cell_type": "code",
   "execution_count": 7,
   "id": "4025fd8b-55a8-4b94-bb5d-47dcf99c92bf",
   "metadata": {},
   "outputs": [],
   "source": [
    "import pandas as pd \n",
    "\n",
    "july = pd.read_csv(\"july_merged_redfin.csv\")"
   ]
  },
  {
   "cell_type": "code",
   "execution_count": 8,
   "id": "57df97a9-6aad-4fa1-990c-85525927a64f",
   "metadata": {},
   "outputs": [
    {
     "data": {
      "text/plain": [
       "26442"
      ]
     },
     "execution_count": 8,
     "metadata": {},
     "output_type": "execute_result"
    }
   ],
   "source": [
    "july['phone_leads'].sum()"
   ]
  },
  {
   "cell_type": "code",
   "execution_count": 9,
   "id": "de5c868f-1550-4a20-a894-df441584de7e",
   "metadata": {},
   "outputs": [],
   "source": [
    "aug = pd.read_csv(\"aug_redfin_merged.csv\")"
   ]
  },
  {
   "cell_type": "code",
   "execution_count": 11,
   "id": "f339ab03-d889-4129-8266-256dd636c206",
   "metadata": {},
   "outputs": [
    {
     "data": {
      "text/plain": [
       "27899"
      ]
     },
     "execution_count": 11,
     "metadata": {},
     "output_type": "execute_result"
    }
   ],
   "source": [
    "aug['phone_leads'].sum()"
   ]
  },
  {
   "cell_type": "code",
   "execution_count": 12,
   "id": "2bef9aba-30f2-4f00-b7b1-289a4a924d12",
   "metadata": {},
   "outputs": [
    {
     "data": {
      "text/html": [
       "<div>\n",
       "<style scoped>\n",
       "    .dataframe tbody tr th:only-of-type {\n",
       "        vertical-align: middle;\n",
       "    }\n",
       "\n",
       "    .dataframe tbody tr th {\n",
       "        vertical-align: top;\n",
       "    }\n",
       "\n",
       "    .dataframe thead th {\n",
       "        text-align: right;\n",
       "    }\n",
       "</style>\n",
       "<table border=\"1\" class=\"dataframe\">\n",
       "  <thead>\n",
       "    <tr style=\"text-align: right;\">\n",
       "      <th></th>\n",
       "      <th>historical_listing_date</th>\n",
       "      <th>site</th>\n",
       "      <th>TPl</th>\n",
       "      <th>propertyid</th>\n",
       "      <th>listingid</th>\n",
       "      <th>longitude</th>\n",
       "      <th>latitude</th>\n",
       "      <th>PropertyName</th>\n",
       "      <th>pageviews</th>\n",
       "      <th>email_leads</th>\n",
       "      <th>phone_leads</th>\n",
       "    </tr>\n",
       "  </thead>\n",
       "  <tbody>\n",
       "    <tr>\n",
       "      <th>0</th>\n",
       "      <td>2024-08-28</td>\n",
       "      <td>Redfin</td>\n",
       "      <td>INACTIVE</td>\n",
       "      <td>100066718</td>\n",
       "      <td>100066718</td>\n",
       "      <td>-96.6416</td>\n",
       "      <td>34.7810</td>\n",
       "      <td>Oakhurst Apartments</td>\n",
       "      <td>1</td>\n",
       "      <td>NaN</td>\n",
       "      <td>0</td>\n",
       "    </tr>\n",
       "    <tr>\n",
       "      <th>1</th>\n",
       "      <td>2024-09-03</td>\n",
       "      <td>Redfin</td>\n",
       "      <td>INACTIVE</td>\n",
       "      <td>100066718</td>\n",
       "      <td>100066718</td>\n",
       "      <td>-96.6416</td>\n",
       "      <td>34.7810</td>\n",
       "      <td>Oakhurst Apartments</td>\n",
       "      <td>1</td>\n",
       "      <td>NaN</td>\n",
       "      <td>0</td>\n",
       "    </tr>\n",
       "    <tr>\n",
       "      <th>2</th>\n",
       "      <td>2024-09-02</td>\n",
       "      <td>Redfin</td>\n",
       "      <td>INACTIVE</td>\n",
       "      <td>100066718</td>\n",
       "      <td>100066718</td>\n",
       "      <td>-96.6416</td>\n",
       "      <td>34.7810</td>\n",
       "      <td>Oakhurst Apartments</td>\n",
       "      <td>1</td>\n",
       "      <td>NaN</td>\n",
       "      <td>0</td>\n",
       "    </tr>\n",
       "    <tr>\n",
       "      <th>3</th>\n",
       "      <td>2024-08-16</td>\n",
       "      <td>Redfin</td>\n",
       "      <td>INACTIVE</td>\n",
       "      <td>100066718</td>\n",
       "      <td>100066718</td>\n",
       "      <td>-96.6416</td>\n",
       "      <td>34.7810</td>\n",
       "      <td>Oakhurst Apartments</td>\n",
       "      <td>1</td>\n",
       "      <td>NaN</td>\n",
       "      <td>0</td>\n",
       "    </tr>\n",
       "    <tr>\n",
       "      <th>4</th>\n",
       "      <td>2024-09-06</td>\n",
       "      <td>Redfin</td>\n",
       "      <td>INACTIVE</td>\n",
       "      <td>100066718</td>\n",
       "      <td>100066718</td>\n",
       "      <td>-96.6416</td>\n",
       "      <td>34.7810</td>\n",
       "      <td>Oakhurst Apartments</td>\n",
       "      <td>1</td>\n",
       "      <td>NaN</td>\n",
       "      <td>0</td>\n",
       "    </tr>\n",
       "    <tr>\n",
       "      <th>...</th>\n",
       "      <td>...</td>\n",
       "      <td>...</td>\n",
       "      <td>...</td>\n",
       "      <td>...</td>\n",
       "      <td>...</td>\n",
       "      <td>...</td>\n",
       "      <td>...</td>\n",
       "      <td>...</td>\n",
       "      <td>...</td>\n",
       "      <td>...</td>\n",
       "      <td>...</td>\n",
       "    </tr>\n",
       "    <tr>\n",
       "      <th>1091113</th>\n",
       "      <td>2024-08-18</td>\n",
       "      <td>Rent</td>\n",
       "      <td>INACTIVE</td>\n",
       "      <td>1745</td>\n",
       "      <td>1745</td>\n",
       "      <td>-97.1480</td>\n",
       "      <td>32.8624</td>\n",
       "      <td>Amherst</td>\n",
       "      <td>1</td>\n",
       "      <td>0.0</td>\n",
       "      <td>0</td>\n",
       "    </tr>\n",
       "    <tr>\n",
       "      <th>1091114</th>\n",
       "      <td>2024-09-05</td>\n",
       "      <td>AG</td>\n",
       "      <td>INACTIVE</td>\n",
       "      <td>688014</td>\n",
       "      <td>688014</td>\n",
       "      <td>-115.2370</td>\n",
       "      <td>36.2017</td>\n",
       "      <td>Terrace Court Apartments</td>\n",
       "      <td>1</td>\n",
       "      <td>0.0</td>\n",
       "      <td>0</td>\n",
       "    </tr>\n",
       "    <tr>\n",
       "      <th>1091115</th>\n",
       "      <td>2024-08-20</td>\n",
       "      <td>AG</td>\n",
       "      <td>INACTIVE</td>\n",
       "      <td>100058076</td>\n",
       "      <td>100058076</td>\n",
       "      <td>-77.7847</td>\n",
       "      <td>43.0916</td>\n",
       "      <td>Chili Heights</td>\n",
       "      <td>1</td>\n",
       "      <td>0.0</td>\n",
       "      <td>0</td>\n",
       "    </tr>\n",
       "    <tr>\n",
       "      <th>1091116</th>\n",
       "      <td>2024-08-19</td>\n",
       "      <td>AG</td>\n",
       "      <td>INACTIVE</td>\n",
       "      <td>1023755</td>\n",
       "      <td>1023755</td>\n",
       "      <td>-121.4202</td>\n",
       "      <td>38.4464</td>\n",
       "      <td>Wolf Ranch</td>\n",
       "      <td>1</td>\n",
       "      <td>0.0</td>\n",
       "      <td>0</td>\n",
       "    </tr>\n",
       "    <tr>\n",
       "      <th>1091117</th>\n",
       "      <td>2024-08-13</td>\n",
       "      <td>AG</td>\n",
       "      <td>INACTIVE</td>\n",
       "      <td>100065220</td>\n",
       "      <td>100065220</td>\n",
       "      <td>-101.8545</td>\n",
       "      <td>33.5756</td>\n",
       "      <td>The Que</td>\n",
       "      <td>1</td>\n",
       "      <td>0.0</td>\n",
       "      <td>0</td>\n",
       "    </tr>\n",
       "  </tbody>\n",
       "</table>\n",
       "<p>1091118 rows × 11 columns</p>\n",
       "</div>"
      ],
      "text/plain": [
       "        historical_listing_date    site       TPl propertyid  listingid  \\\n",
       "0                    2024-08-28  Redfin  INACTIVE  100066718  100066718   \n",
       "1                    2024-09-03  Redfin  INACTIVE  100066718  100066718   \n",
       "2                    2024-09-02  Redfin  INACTIVE  100066718  100066718   \n",
       "3                    2024-08-16  Redfin  INACTIVE  100066718  100066718   \n",
       "4                    2024-09-06  Redfin  INACTIVE  100066718  100066718   \n",
       "...                         ...     ...       ...        ...        ...   \n",
       "1091113              2024-08-18    Rent  INACTIVE       1745       1745   \n",
       "1091114              2024-09-05      AG  INACTIVE     688014     688014   \n",
       "1091115              2024-08-20      AG  INACTIVE  100058076  100058076   \n",
       "1091116              2024-08-19      AG  INACTIVE    1023755    1023755   \n",
       "1091117              2024-08-13      AG  INACTIVE  100065220  100065220   \n",
       "\n",
       "         longitude  latitude              PropertyName  pageviews  \\\n",
       "0         -96.6416   34.7810       Oakhurst Apartments          1   \n",
       "1         -96.6416   34.7810       Oakhurst Apartments          1   \n",
       "2         -96.6416   34.7810       Oakhurst Apartments          1   \n",
       "3         -96.6416   34.7810       Oakhurst Apartments          1   \n",
       "4         -96.6416   34.7810       Oakhurst Apartments          1   \n",
       "...            ...       ...                       ...        ...   \n",
       "1091113   -97.1480   32.8624                   Amherst          1   \n",
       "1091114  -115.2370   36.2017  Terrace Court Apartments          1   \n",
       "1091115   -77.7847   43.0916             Chili Heights          1   \n",
       "1091116  -121.4202   38.4464                Wolf Ranch          1   \n",
       "1091117  -101.8545   33.5756                   The Que          1   \n",
       "\n",
       "         email_leads  phone_leads  \n",
       "0                NaN            0  \n",
       "1                NaN            0  \n",
       "2                NaN            0  \n",
       "3                NaN            0  \n",
       "4                NaN            0  \n",
       "...              ...          ...  \n",
       "1091113          0.0            0  \n",
       "1091114          0.0            0  \n",
       "1091115          0.0            0  \n",
       "1091116          0.0            0  \n",
       "1091117          0.0            0  \n",
       "\n",
       "[1091118 rows x 11 columns]"
      ]
     },
     "execution_count": 12,
     "metadata": {},
     "output_type": "execute_result"
    }
   ],
   "source": [
    "aug"
   ]
  },
  {
   "cell_type": "code",
   "execution_count": 13,
   "id": "435ce984-32b1-4530-b140-cc88ffced03f",
   "metadata": {},
   "outputs": [],
   "source": [
    "may_aug = pd.read_csv(\"may_sep_redfin_ag_rent_inactives_pv_pl.csv\")"
   ]
  },
  {
   "cell_type": "code",
   "execution_count": 17,
   "id": "8dbd5306-2a04-470d-a9a6-b63c150ed560",
   "metadata": {},
   "outputs": [
    {
     "data": {
      "text/plain": [
       "20189"
      ]
     },
     "execution_count": 17,
     "metadata": {},
     "output_type": "execute_result"
    }
   ],
   "source": [
    "len(may_aug['propertyid'].unique())"
   ]
  },
  {
   "cell_type": "code",
   "execution_count": 56,
   "id": "1c50aea9-c033-408e-ad07-8f62754ac8ce",
   "metadata": {},
   "outputs": [
    {
     "data": {
      "text/plain": [
       "110701.0"
      ]
     },
     "execution_count": 56,
     "metadata": {},
     "output_type": "execute_result"
    }
   ],
   "source": [
    "may_aug['phone_leads'].sum().mean()"
   ]
  }
 ],
 "metadata": {
  "kernelspec": {
   "display_name": "Python 3 (ipykernel)",
   "language": "python",
   "name": "python3"
  },
  "language_info": {
   "codemirror_mode": {
    "name": "ipython",
    "version": 3
   },
   "file_extension": ".py",
   "mimetype": "text/x-python",
   "name": "python",
   "nbconvert_exporter": "python",
   "pygments_lexer": "ipython3",
   "version": "3.12.2"
  }
 },
 "nbformat": 4,
 "nbformat_minor": 5
}
